{
 "metadata": {
  "language_info": {
   "codemirror_mode": {
    "name": "ipython",
    "version": 3
   },
   "file_extension": ".py",
   "mimetype": "text/x-python",
   "name": "python",
   "nbconvert_exporter": "python",
   "pygments_lexer": "ipython3",
   "version": "3.8.5-final"
  },
  "orig_nbformat": 2,
  "kernelspec": {
   "name": "python3",
   "display_name": "Python 3.8.5 64-bit ('sysdl': conda)",
   "metadata": {
    "interpreter": {
     "hash": "689d1d3f808959cd791bc0b68c9752c0abc20c4c137e19528b833eedceb9a052"
    }
   }
  }
 },
 "nbformat": 4,
 "nbformat_minor": 2,
 "cells": [
  {
   "cell_type": "code",
   "execution_count": 6,
   "metadata": {},
   "outputs": [],
   "source": [
    "import numpy as np\n",
    "import pandas as pd\n",
    "\n",
    "from svm_proxy import *\n",
    "from sklearn.metrics import accuracy_score"
   ]
  },
  {
   "source": [
    "class test_proxy:\n",
    "\n",
    "    def __init__(self, proxy, true_weights, true_bias, X_proj = None, \n",
    "                 y_proj = None, X_valid = None, y_valid = None, logs):\n",
    "        \"\"\"\n",
    "        inputs   : proxy = the incremental model\n",
    "                   true_weights, true_intercept = true DB params\n",
    "                   X_proj, y_proj = dataset for projection metric\n",
    "                   X_valid, y_valid = dataset for accuracy metric\n",
    "                   log = list of (string) metrics (min_dist_DB, ..)\n",
    "        \"\"\"\n",
    "\n",
    "        self.log = log\n",
    "        self.proxy = proxy\n",
    "        self.true_weights_vec = np.insert(true_weights, 0, true_bias)\n",
    "\n",
    "        if 'min_dist_DB' in logs:\n",
    "            self.min_dist_DB = 1e10\n",
    "\n",
    "        # stored datasets\n",
    "        if isinstance(X_proj, np.ndarray):\n",
    "            self.avg_L2_proj = None\n",
    "            self.X_proj, self.y_proj  = np.c_[np.ones((X_proj.shape[0], 1)), X_proj], y_proj\n",
    "\n",
    "        if isinstance(X_valid, np.ndarray):\n",
    "            self.X_valid, self.y_valid = np.c_[np.ones((X_valid.shape[0], 1)), X_valid], y_valid\n",
    "\n",
    "\n",
    "    def dist_true_DB(self, x):\n",
    "        fx = abs(np.dot(self.true_weights, x) + self.intercept)\n",
    "        return fx / np.linalg.norm(self.true_weights)\n",
    "\n",
    "\n",
    "    def steal(self, attacker, max_queries): \n",
    "\n",
    "        for query in range(max_queries):\n",
    "            x, y, attacker_acc = attacker.query_fit() # query and improve fit; return the query point and accuracy\n",
    "            proxy.update(x, y)\n",
    "\n",
    "            # 1. minimum distance from hyperplane\n",
    "            if 'min_dist_DB' in self.logs:\n",
    "                self.min_dist_DB = min(self.min_dist_DB, dist_true_DB(x))\n",
    "                # log in wandb\n",
    "\n",
    "            # 2. accuracy\n",
    "            if isinstance(self.X_valid, np.ndarray): \n",
    "                self.proxy_acc = accuracy_score(self.proxy.predict(X_val), y_val)\n",
    "                # log in wandb\n",
    "\n",
    "            # 3. projection metric\n",
    "            if isinstance(self.X_proj, np.ndarray):\n",
    "                proxy_weight_vec = np.insert(self.proxy.weights, 0, self.proxy.bias)                  \n",
    "                X_proxy_proj = self.X_proj - (self.X_proj @ proxy_weight_vec) @ proxy_weight_vec.T\n",
    "                X_true_proj  = self.X_proj - (self.X_proj @ self.true_weight_vec) @ self.true_weight_vec.T\n",
    "\n",
    "                self.avg_L2_proj  = np.mean(np.linalg.norm(X_proxy_proj - X_true_proj, axis = 1)\n",
    "                # log in wandb\n",
    "\n",
    "            # 4. other metrics\n",
    "                "
   ],
   "cell_type": "code",
   "metadata": {},
   "execution_count": null,
   "outputs": []
  },
  {
   "cell_type": "code",
   "execution_count": null,
   "metadata": {},
   "outputs": [],
   "source": []
  }
 ]
}