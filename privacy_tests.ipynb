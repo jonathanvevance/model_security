{
 "metadata": {
  "language_info": {
   "codemirror_mode": {
    "name": "ipython",
    "version": 3
   },
   "file_extension": ".py",
   "mimetype": "text/x-python",
   "name": "python",
   "nbconvert_exporter": "python",
   "pygments_lexer": "ipython3",
   "version": "3.8.5-final"
  },
  "orig_nbformat": 2,
  "kernelspec": {
   "name": "python3",
   "display_name": "Python 3.8.5 64-bit ('sysdl': conda)",
   "metadata": {
    "interpreter": {
     "hash": "689d1d3f808959cd791bc0b68c9752c0abc20c4c137e19528b833eedceb9a052"
    }
   }
  }
 },
 "nbformat": 4,
 "nbformat_minor": 2,
 "cells": [
  {
   "cell_type": "code",
   "execution_count": 1,
   "metadata": {},
   "outputs": [],
   "source": [
    "import numpy as np\n",
    "import pandas as pd\n",
    "\n",
    "from svm_proxy import *"
   ]
  },
  {
   "cell_type": "code",
   "execution_count": null,
   "metadata": {},
   "outputs": [],
   "source": [
    "class test_proxy:\n",
    "\n",
    "    def __init__(self, proxy, true_weights, true_intercept, logs = 'all'):\n",
    "        self.logs = logs\n",
    "        self.true_weights = true_weights\n",
    "        self.true_intercept = true_intercept\n",
    "        self.proxy = proxy\n",
    "        self.proxy_intercept \n",
    "\n",
    "        # projection approach\n",
    "\n",
    "\n",
    "    def steal(self, attacker, max_queries): \n",
    "\n",
    "        for query in range(max_queries):\n",
    "            # attacker fits to all available queries\n",
    "\n",
    "\n",
    "        "
   ]
  }
 ]
}