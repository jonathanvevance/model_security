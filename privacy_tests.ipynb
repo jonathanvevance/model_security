{
 "metadata": {
  "language_info": {
   "codemirror_mode": {
    "name": "ipython",
    "version": 3
   },
   "file_extension": ".py",
   "mimetype": "text/x-python",
   "name": "python",
   "nbconvert_exporter": "python",
   "pygments_lexer": "ipython3",
   "version": "3.8.5-final"
  },
  "orig_nbformat": 2,
  "kernelspec": {
   "name": "python3",
   "display_name": "Python 3.8.5 64-bit ('sysdl': conda)",
   "metadata": {
    "interpreter": {
     "hash": "689d1d3f808959cd791bc0b68c9752c0abc20c4c137e19528b833eedceb9a052"
    }
   }
  }
 },
 "nbformat": 4,
 "nbformat_minor": 2,
 "cells": [
  {
   "cell_type": "code",
   "execution_count": 1,
   "metadata": {},
   "outputs": [],
   "source": [
    "import numpy as np\n",
    "import pandas as pd\n",
    "\n",
    "from svm_proxy import *\n",
    "from sklearn.metrics import accuracy_score"
   ]
  },
  {
   "cell_type": "code",
   "execution_count": null,
   "metadata": {},
   "outputs": [],
   "source": [
    "class test_proxy:\n",
    "\n",
    "    def __init__(self, proxy, true_weights, true_intercept, \n",
    "                 X_proj, y_proj, X_valid, y_valid, logs):\n",
    "        \"\"\"\n",
    "        inputs   : proxy = the incremental model\n",
    "                   true_weights, true_intercept = true DB params\n",
    "                   X_proj, y_proj = dataset for projection metric\n",
    "                   X_valid, y_valid = dataset for accuracy metric\n",
    "                   logs = which metrics to log\n",
    "        \"\"\"\n",
    "\n",
    "        self.logs = logs \n",
    "        self.true_weights = true_weights\n",
    "        self.true_intercept = true_intercept\n",
    "        self.proxy = proxy\n",
    "        self.proxy_intercept \n",
    "        self.min_dist_DB = 1e10\n",
    "\n",
    "    def dist_true_DB(self, x):\n",
    "        fx = abs(np.dot(self.true_weights, x) + self.intercept)\n",
    "        return fx / np.linalg.norm(self.true_weights)\n",
    "\n",
    "    def steal(self, attacker, max_queries): \n",
    "\n",
    "        for query in range(max_queries):\n",
    "            x, y = attacker.query_fit() # query and improve fit; return the query point\n",
    "            proxy.update(x, y) \n",
    "\n",
    "            # 1. minimum distance from hyperplane\n",
    "            self.min_dist_DB = min(self.min_dist_DB, dist_true_DB(x))\n",
    "\n",
    "            # 2. accuracy \n",
    "            self.proxy_acc = accuracy_score(self.proxy.predict(X_val), y_val)\n",
    "\n",
    "            # 3. projection metric\n",
    "            # I will need attacker.weights and attacker.bias here\n",
    "\n",
    "\n",
    "\n",
    "\n",
    "\n",
    "        "
   ]
  }
 ]
}