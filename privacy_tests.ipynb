{
 "metadata": {
  "language_info": {
   "codemirror_mode": {
    "name": "ipython",
    "version": 3
   },
   "file_extension": ".py",
   "mimetype": "text/x-python",
   "name": "python",
   "nbconvert_exporter": "python",
   "pygments_lexer": "ipython3",
   "version": "3.8.5-final"
  },
  "orig_nbformat": 2,
  "kernelspec": {
   "name": "python3",
   "display_name": "Python 3.8.5 64-bit ('sysdl': conda)",
   "metadata": {
    "interpreter": {
     "hash": "689d1d3f808959cd791bc0b68c9752c0abc20c4c137e19528b833eedceb9a052"
    }
   }
  }
 },
 "nbformat": 4,
 "nbformat_minor": 2,
 "cells": [
  {
   "cell_type": "code",
   "execution_count": 6,
   "metadata": {},
   "outputs": [],
   "source": [
    "import wandb\n",
    "import numpy as np\n",
    "import pandas as pd\n",
    "\n",
    "from svm_proxy import *\n",
    "from sklearn.metrics import accuracy_score"
   ]
  },
  {
   "source": [
    "class test_proxy:\n",
    "\n",
    "    def __init__(self, proxy, attacker, X_valid, y_valid):\n",
    "        \"\"\"\n",
    "        inputs   : proxy = incremental model object\n",
    "                   attacker = attacker object\n",
    "                   X_valid, y_valid = dataset for accuracy metric\n",
    "        \"\"\"\n",
    "        self.proxy = proxy\n",
    "        self.attacker = attacker\n",
    "        self.proxy_acc = None\n",
    "        self.attacker_acc = None\n",
    "\n",
    "        # stored datasets\n",
    "        self.X_valid, self.y_valid = X_valid, y_valid\n",
    "\n",
    "    def steal(self, max_queries): \n",
    "\n",
    "        for query in range(max_queries):\n",
    "            x, y = attacker.query_fit() # query and improve fit; return the query point and accuracy\n",
    "            self.attacker_acc = accuracy_score(self.attacker.predict(X_val, y_val))\n",
    "\n",
    "            proxy.update(x, y)\n",
    "            self.proxy_acc = accuracy_score(self.proxy.predict(X_val), y_val)\n",
    "\n",
    "            wandb.log({\n",
    "                \"proxy_acc\" : proxy_acc,\n",
    "                \"attacker_acc\" : attacker_acc\n",
    "            })\n",
    "                "
   ],
   "cell_type": "code",
   "metadata": {},
   "execution_count": null,
   "outputs": []
  },
  {
   "cell_type": "code",
   "execution_count": null,
   "metadata": {},
   "outputs": [],
   "source": [
    "wandb.init(project = 'model_security')\n",
    "test_run = test_proxy(proxy, attacker, X_valid, y_valid)\n"
   ]
  }
 ]
}